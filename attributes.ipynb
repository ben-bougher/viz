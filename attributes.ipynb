{
 "cells": [
  {
   "cell_type": "code",
   "execution_count": 37,
   "metadata": {
    "collapsed": false
   },
   "outputs": [],
   "source": [
    "import numpy as np\n",
    "from bruges.reflection import shuey2\n",
    "from numpy.random import randn\n",
    "from matplotlib import pyplot as plt\n",
    "%matplotlib inline"
   ]
  },
  {
   "cell_type": "code",
   "execution_count": 38,
   "metadata": {
    "collapsed": false
   },
   "outputs": [],
   "source": [
    "A = np.nan_to_num(np.load('amp_slice.npy'))\n",
    "A /= np.amax(np.abs(A))\n",
    "C = np.nan_to_num(np.load('cont.npy'))"
   ]
  },
  {
   "cell_type": "code",
   "execution_count": 39,
   "metadata": {
    "collapsed": false
   },
   "outputs": [
    {
     "data": {
      "text/plain": [
       "(194, 200)"
      ]
     },
     "execution_count": 39,
     "metadata": {},
     "output_type": "execute_result"
    }
   ],
   "source": [
    "A.shape"
   ]
  },
  {
   "cell_type": "code",
   "execution_count": 40,
   "metadata": {
    "collapsed": true
   },
   "outputs": [],
   "source": [
    "vp1 = 3240.0 * np.ones(A.shape) \n",
    "vs1 = 1620.0  * np.ones(A.shape)\n",
    "rho1 = 2340.0 * np.ones(A.shape)"
   ]
  },
  {
   "cell_type": "code",
   "execution_count": 41,
   "metadata": {
    "collapsed": false
   },
   "outputs": [],
   "source": [
    "vp2 = 2590 * A + randn(*A.shape) * 100\n",
    "vs2 = 1060 * A + randn(*A.shape) * 100\n",
    "rho2 = 2210 * A + randn(*A.shape) * 100\n",
    "\n",
    "vp3 = 1650 * A + randn(*A.shape) \n",
    "vs3 = 1090 * A + randn(*A.shape)\n",
    "rho3 = 2070 * A + randn(*A.shape)"
   ]
  },
  {
   "cell_type": "code",
   "execution_count": 42,
   "metadata": {
    "collapsed": false
   },
   "outputs": [],
   "source": [
    "Ib, Gb = shuey2(vp2, vs2, rho2, vp1, vs1, rho1, 0,terms=2)\n",
    "Ia, Ga = shuey2(vp3, vs3, rho3, vp1, vs1, rho1, 0,terms=2)"
   ]
  },
  {
   "cell_type": "code",
   "execution_count": 45,
   "metadata": {
    "collapsed": false
   },
   "outputs": [],
   "source": [
    "#plt.imshow(np.clip(C, 0,.9))\n",
    "I = np.where(np.clip(C, 0,.7) == .7, Ia, Ib)\n",
    "G = np.where(np.clip(C, 0,.7) == .7, Ga, Gb)\n",
    "\n",
    "FI = I / G"
   ]
  },
  {
   "cell_type": "code",
   "execution_count": 46,
   "metadata": {
    "collapsed": false
   },
   "outputs": [],
   "source": [
    "np.save('intercept',I/np.amax(np.abs(I)))\n",
    "np.save('gradient', G/np.amax(np.abs(G)))\n",
    "np.save('FI', FI/np.amax(np.abs(FI)))"
   ]
  },
  {
   "cell_type": "code",
   "execution_count": null,
   "metadata": {
    "collapsed": true
   },
   "outputs": [],
   "source": []
  }
 ],
 "metadata": {
  "kernelspec": {
   "display_name": "Python 2",
   "language": "python",
   "name": "python2"
  },
  "language_info": {
   "codemirror_mode": {
    "name": "ipython",
    "version": 2
   },
   "file_extension": ".py",
   "mimetype": "text/x-python",
   "name": "python",
   "nbconvert_exporter": "python",
   "pygments_lexer": "ipython2",
   "version": "2.7.10"
  }
 },
 "nbformat": 4,
 "nbformat_minor": 0
}
